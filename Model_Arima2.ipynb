{
 "cells": [
  {
   "cell_type": "code",
   "execution_count": 1,
   "id": "8d5af222",
   "metadata": {},
   "outputs": [],
   "source": [
    "import pandas as pd"
   ]
  },
  {
   "cell_type": "code",
   "execution_count": 2,
   "id": "99359cca",
   "metadata": {},
   "outputs": [],
   "source": [
    "df = pd.read_csv(r'E:\\download\\kaggle_data_set\\toko_sembako\\penjualan barang.csv', sep = ';')"
   ]
  },
  {
   "cell_type": "code",
   "execution_count": 3,
   "id": "2d39efd1",
   "metadata": {},
   "outputs": [
    {
     "data": {
      "text/html": [
       "<div>\n",
       "<style scoped>\n",
       "    .dataframe tbody tr th:only-of-type {\n",
       "        vertical-align: middle;\n",
       "    }\n",
       "\n",
       "    .dataframe tbody tr th {\n",
       "        vertical-align: top;\n",
       "    }\n",
       "\n",
       "    .dataframe thead th {\n",
       "        text-align: right;\n",
       "    }\n",
       "</style>\n",
       "<table border=\"1\" class=\"dataframe\">\n",
       "  <thead>\n",
       "    <tr style=\"text-align: right;\">\n",
       "      <th></th>\n",
       "      <th>Unnamed: 0</th>\n",
       "      <th>tanggal</th>\n",
       "      <th>nama_pembeli</th>\n",
       "      <th>nama_barang</th>\n",
       "      <th>kuantum</th>\n",
       "      <th>nominal</th>\n",
       "    </tr>\n",
       "  </thead>\n",
       "  <tbody>\n",
       "    <tr>\n",
       "      <th>0</th>\n",
       "      <td>1</td>\n",
       "      <td>02/01/2020</td>\n",
       "      <td>TOKO HERUNIAWATI</td>\n",
       "      <td>BERAS</td>\n",
       "      <td>1000.0</td>\n",
       "      <td>9840000.0</td>\n",
       "    </tr>\n",
       "    <tr>\n",
       "      <th>1</th>\n",
       "      <td>2</td>\n",
       "      <td>02/01/2020</td>\n",
       "      <td>TOKO HERUNIAWATI</td>\n",
       "      <td>DAGING</td>\n",
       "      <td>120.0</td>\n",
       "      <td>8400000.0</td>\n",
       "    </tr>\n",
       "    <tr>\n",
       "      <th>2</th>\n",
       "      <td>3</td>\n",
       "      <td>02/01/2020</td>\n",
       "      <td>TOKO APRILIA SUKRISNI</td>\n",
       "      <td>BERAS</td>\n",
       "      <td>6000.0</td>\n",
       "      <td>62910000.0</td>\n",
       "    </tr>\n",
       "    <tr>\n",
       "      <th>3</th>\n",
       "      <td>4</td>\n",
       "      <td>02/01/2020</td>\n",
       "      <td>TOKO APRILIA SUKRISNI</td>\n",
       "      <td>MIGOR</td>\n",
       "      <td>408.0</td>\n",
       "      <td>4855200.0</td>\n",
       "    </tr>\n",
       "    <tr>\n",
       "      <th>4</th>\n",
       "      <td>5</td>\n",
       "      <td>02/01/2020</td>\n",
       "      <td>TOKO APRILIA SUKRISNI</td>\n",
       "      <td>TEPUNG</td>\n",
       "      <td>140.0</td>\n",
       "      <td>1162000.0</td>\n",
       "    </tr>\n",
       "  </tbody>\n",
       "</table>\n",
       "</div>"
      ],
      "text/plain": [
       "   Unnamed: 0     tanggal           nama_pembeli nama_barang  kuantum  \\\n",
       "0           1  02/01/2020       TOKO HERUNIAWATI       BERAS   1000.0   \n",
       "1           2  02/01/2020       TOKO HERUNIAWATI      DAGING    120.0   \n",
       "2           3  02/01/2020  TOKO APRILIA SUKRISNI       BERAS   6000.0   \n",
       "3           4  02/01/2020  TOKO APRILIA SUKRISNI       MIGOR    408.0   \n",
       "4           5  02/01/2020  TOKO APRILIA SUKRISNI      TEPUNG    140.0   \n",
       "\n",
       "      nominal  \n",
       "0   9840000.0  \n",
       "1   8400000.0  \n",
       "2  62910000.0  \n",
       "3   4855200.0  \n",
       "4   1162000.0  "
      ]
     },
     "execution_count": 3,
     "metadata": {},
     "output_type": "execute_result"
    }
   ],
   "source": [
    "df.head()"
   ]
  },
  {
   "cell_type": "code",
   "execution_count": 4,
   "id": "d650c060",
   "metadata": {},
   "outputs": [
    {
     "data": {
      "text/plain": [
       "Index(['Unnamed: 0', 'tanggal', 'nama_pembeli', 'nama_barang', 'kuantum',\n",
       "       'nominal'],\n",
       "      dtype='object')"
      ]
     },
     "execution_count": 4,
     "metadata": {},
     "output_type": "execute_result"
    }
   ],
   "source": [
    "df.columns"
   ]
  },
  {
   "cell_type": "code",
   "execution_count": 5,
   "id": "9bb0a967",
   "metadata": {},
   "outputs": [
    {
     "data": {
      "text/plain": [
       "Unnamed: 0      0\n",
       "tanggal         0\n",
       "nama_pembeli    0\n",
       "nama_barang     0\n",
       "kuantum         0\n",
       "nominal         0\n",
       "dtype: int64"
      ]
     },
     "execution_count": 5,
     "metadata": {},
     "output_type": "execute_result"
    }
   ],
   "source": [
    "df.isna().sum()"
   ]
  },
  {
   "cell_type": "code",
   "execution_count": 6,
   "id": "10279551",
   "metadata": {},
   "outputs": [
    {
     "name": "stdout",
     "output_type": "stream",
     "text": [
      "<class 'pandas.core.frame.DataFrame'>\n",
      "RangeIndex: 1289 entries, 0 to 1288\n",
      "Data columns (total 6 columns):\n",
      " #   Column        Non-Null Count  Dtype  \n",
      "---  ------        --------------  -----  \n",
      " 0   Unnamed: 0    1289 non-null   int64  \n",
      " 1   tanggal       1289 non-null   object \n",
      " 2   nama_pembeli  1289 non-null   object \n",
      " 3   nama_barang   1289 non-null   object \n",
      " 4   kuantum       1289 non-null   float64\n",
      " 5   nominal       1289 non-null   float64\n",
      "dtypes: float64(2), int64(1), object(3)\n",
      "memory usage: 60.5+ KB\n"
     ]
    }
   ],
   "source": [
    "df.info()"
   ]
  },
  {
   "cell_type": "code",
   "execution_count": 7,
   "id": "96d0af28",
   "metadata": {},
   "outputs": [
    {
     "data": {
      "text/html": [
       "<div>\n",
       "<style scoped>\n",
       "    .dataframe tbody tr th:only-of-type {\n",
       "        vertical-align: middle;\n",
       "    }\n",
       "\n",
       "    .dataframe tbody tr th {\n",
       "        vertical-align: top;\n",
       "    }\n",
       "\n",
       "    .dataframe thead th {\n",
       "        text-align: right;\n",
       "    }\n",
       "</style>\n",
       "<table border=\"1\" class=\"dataframe\">\n",
       "  <thead>\n",
       "    <tr style=\"text-align: right;\">\n",
       "      <th></th>\n",
       "      <th>tanggal</th>\n",
       "      <th>nominal</th>\n",
       "    </tr>\n",
       "  </thead>\n",
       "  <tbody>\n",
       "    <tr>\n",
       "      <th>0</th>\n",
       "      <td>02/01/2020</td>\n",
       "      <td>9840000.0</td>\n",
       "    </tr>\n",
       "    <tr>\n",
       "      <th>1</th>\n",
       "      <td>02/01/2020</td>\n",
       "      <td>8400000.0</td>\n",
       "    </tr>\n",
       "    <tr>\n",
       "      <th>2</th>\n",
       "      <td>02/01/2020</td>\n",
       "      <td>62910000.0</td>\n",
       "    </tr>\n",
       "    <tr>\n",
       "      <th>3</th>\n",
       "      <td>02/01/2020</td>\n",
       "      <td>4855200.0</td>\n",
       "    </tr>\n",
       "    <tr>\n",
       "      <th>4</th>\n",
       "      <td>02/01/2020</td>\n",
       "      <td>1162000.0</td>\n",
       "    </tr>\n",
       "    <tr>\n",
       "      <th>...</th>\n",
       "      <td>...</td>\n",
       "      <td>...</td>\n",
       "    </tr>\n",
       "    <tr>\n",
       "      <th>1284</th>\n",
       "      <td>08/04/2021</td>\n",
       "      <td>4389600.0</td>\n",
       "    </tr>\n",
       "    <tr>\n",
       "      <th>1285</th>\n",
       "      <td>08/04/2021</td>\n",
       "      <td>2718750.0</td>\n",
       "    </tr>\n",
       "    <tr>\n",
       "      <th>1286</th>\n",
       "      <td>08/04/2021</td>\n",
       "      <td>1065120.0</td>\n",
       "    </tr>\n",
       "    <tr>\n",
       "      <th>1287</th>\n",
       "      <td>09/04/2021</td>\n",
       "      <td>1200000.0</td>\n",
       "    </tr>\n",
       "    <tr>\n",
       "      <th>1288</th>\n",
       "      <td>09/04/2021</td>\n",
       "      <td>5852800.0</td>\n",
       "    </tr>\n",
       "  </tbody>\n",
       "</table>\n",
       "<p>1289 rows × 2 columns</p>\n",
       "</div>"
      ],
      "text/plain": [
       "         tanggal     nominal\n",
       "0     02/01/2020   9840000.0\n",
       "1     02/01/2020   8400000.0\n",
       "2     02/01/2020  62910000.0\n",
       "3     02/01/2020   4855200.0\n",
       "4     02/01/2020   1162000.0\n",
       "...          ...         ...\n",
       "1284  08/04/2021   4389600.0\n",
       "1285  08/04/2021   2718750.0\n",
       "1286  08/04/2021   1065120.0\n",
       "1287  09/04/2021   1200000.0\n",
       "1288  09/04/2021   5852800.0\n",
       "\n",
       "[1289 rows x 2 columns]"
      ]
     },
     "execution_count": 7,
     "metadata": {},
     "output_type": "execute_result"
    }
   ],
   "source": [
    "df1 = df.copy()\n",
    "df1.drop(['Unnamed: 0','nama_pembeli','nama_barang','kuantum'], axis = 1, inplace = True)\n",
    "df1"
   ]
  },
  {
   "cell_type": "code",
   "execution_count": 8,
   "id": "d2da73a7",
   "metadata": {},
   "outputs": [],
   "source": [
    "df1[['hari','bulan','tahun']] = df1['tanggal'].str.split('/', expand = True)"
   ]
  },
  {
   "cell_type": "code",
   "execution_count": 9,
   "id": "d952cb87",
   "metadata": {},
   "outputs": [],
   "source": [
    "train = df1[df1['tahun']=='2020']\n",
    "train = train.drop(['hari','bulan'], axis = 1)\n",
    "train = train.groupby('tanggal')['nominal'].mean().reset_index()\n",
    "train['tanggal'] = pd.to_datetime(train['tanggal'], dayfirst = True)\n",
    "train['nominal'] = train['nominal'].astype(int)\n",
    "train = train.sort_values(by = 'tanggal')"
   ]
  },
  {
   "cell_type": "code",
   "execution_count": 10,
   "id": "c7e0c768",
   "metadata": {},
   "outputs": [],
   "source": [
    "test = df1[df1['tahun']=='2021']\n",
    "test = test.drop(['hari','bulan'], axis = 1)\n",
    "test = test.groupby('tanggal')['nominal'].mean().reset_index()\n",
    "test['tanggal'] = pd.to_datetime(test['tanggal'], dayfirst = True)\n",
    "test['nominal'] = test['nominal'].astype(int)\n",
    "test = test.sort_values(by = 'tanggal')"
   ]
  },
  {
   "cell_type": "code",
   "execution_count": 11,
   "id": "c62f7053",
   "metadata": {},
   "outputs": [
    {
     "name": "stdout",
     "output_type": "stream",
     "text": [
      "<class 'pandas.core.frame.DataFrame'>\n",
      "Int64Index: 151 entries, 2 to 147\n",
      "Data columns (total 2 columns):\n",
      " #   Column   Non-Null Count  Dtype         \n",
      "---  ------   --------------  -----         \n",
      " 0   tanggal  151 non-null    datetime64[ns]\n",
      " 1   nominal  151 non-null    int32         \n",
      "dtypes: datetime64[ns](1), int32(1)\n",
      "memory usage: 2.9 KB\n",
      "<class 'pandas.core.frame.DataFrame'>\n",
      "Int64Index: 34 entries, 7 to 12\n",
      "Data columns (total 2 columns):\n",
      " #   Column   Non-Null Count  Dtype         \n",
      "---  ------   --------------  -----         \n",
      " 0   tanggal  34 non-null     datetime64[ns]\n",
      " 1   nominal  34 non-null     int32         \n",
      "dtypes: datetime64[ns](1), int32(1)\n",
      "memory usage: 680.0 bytes\n"
     ]
    },
    {
     "data": {
      "text/plain": [
       "(None, None)"
      ]
     },
     "execution_count": 11,
     "metadata": {},
     "output_type": "execute_result"
    }
   ],
   "source": [
    "train.info(),test.info()"
   ]
  },
  {
   "cell_type": "code",
   "execution_count": 12,
   "id": "70366982",
   "metadata": {},
   "outputs": [],
   "source": [
    "import matplotlib.pyplot as plt"
   ]
  },
  {
   "cell_type": "code",
   "execution_count": 13,
   "id": "ded71402",
   "metadata": {},
   "outputs": [
    {
     "data": {
      "image/png": "[encoded data removed]",
      "text/plain": [
       "<Figure size 1000x800 with 1 Axes>"
      ]
     },
     "metadata": {},
     "output_type": "display_data"
    }
   ],
   "source": [
    "plt.figure(figsize = (10,8))\n",
    "plt.plot(train['tanggal'], train['nominal'], label = 'nominal')\n",
    "plt.xticks(rotation=45)\n",
    "plt.title('Plot Nominal Penjualan')\n",
    "plt.legend()\n",
    "plt.show()"
   ]
  },
  {
   "cell_type": "code",
   "execution_count": 14,
   "id": "3963d81f",
   "metadata": {},
   "outputs": [],
   "source": [
    "from statsmodels.tsa.stattools import adfuller\n",
    "\n",
    "def ad_test(data):\n",
    "    dftest = adfuller(data, autolag = 'AIC')\n",
    "    print(f'1. ADF : {dftest[0]}')\n",
    "    print(f'2. P-value : {dftest[1]}')\n",
    "    print(f'3. Lags : {dftest[2]}')\n",
    "    print('4. nilai kritis :')\n",
    "    for key, val in dftest[4].items():\n",
    "        print('\\t', key, ': ',val)"
   ]
  },
  {
   "cell_type": "code",
   "execution_count": 15,
   "id": "df0403cd",
   "metadata": {
    "scrolled": true
   },
   "outputs": [
    {
     "name": "stdout",
     "output_type": "stream",
     "text": [
      "1. ADF : -4.81129910800512\n",
      "2. P-value : 5.1742826643432356e-05\n",
      "3. Lags : 3\n",
      "4. nilai kritis :\n",
      "\t 1% :  -3.4756368462466662\n",
      "\t 5% :  -2.8814104466172608\n",
      "\t 10% :  -2.5773652982553568\n"
     ]
    }
   ],
   "source": [
    "ad_test(train['nominal'])"
   ]
  },
  {
   "cell_type": "code",
   "execution_count": 16,
   "id": "8a50340f",
   "metadata": {},
   "outputs": [],
   "source": [
    "from pmdarima import auto_arima\n",
    "import warnings\n",
    "warnings.filterwarnings('ignore')"
   ]
  },
  {
   "cell_type": "code",
   "execution_count": 17,
   "id": "22e677b6",
   "metadata": {},
   "outputs": [
    {
     "name": "stdout",
     "output_type": "stream",
     "text": [
      "Performing stepwise search to minimize aic\n",
      " ARIMA(2,0,2)(0,0,0)[0] intercept   : AIC=5759.165, Time=0.65 sec\n",
      " ARIMA(0,0,0)(0,0,0)[0] intercept   : AIC=5762.924, Time=0.03 sec\n",
      " ARIMA(1,0,0)(0,0,0)[0] intercept   : AIC=5760.885, Time=0.07 sec\n",
      " ARIMA(0,0,1)(0,0,0)[0] intercept   : AIC=5761.671, Time=0.10 sec\n",
      " ARIMA(0,0,0)(0,0,0)[0]             : AIC=5801.324, Time=0.11 sec\n",
      " ARIMA(1,0,2)(0,0,0)[0] intercept   : AIC=5761.149, Time=0.49 sec\n",
      " ARIMA(2,0,1)(0,0,0)[0] intercept   : AIC=5760.158, Time=0.85 sec\n",
      " ARIMA(3,0,2)(0,0,0)[0] intercept   : AIC=5752.282, Time=0.45 sec\n",
      " ARIMA(3,0,1)(0,0,0)[0] intercept   : AIC=5750.785, Time=0.26 sec\n",
      " ARIMA(3,0,0)(0,0,0)[0] intercept   : AIC=5750.537, Time=0.13 sec\n",
      " ARIMA(2,0,0)(0,0,0)[0] intercept   : AIC=5760.487, Time=0.11 sec\n",
      " ARIMA(4,0,0)(0,0,0)[0] intercept   : AIC=5749.662, Time=0.20 sec\n",
      " ARIMA(5,0,0)(0,0,0)[0] intercept   : AIC=5751.688, Time=0.24 sec\n",
      " ARIMA(4,0,1)(0,0,0)[0] intercept   : AIC=5751.674, Time=0.37 sec\n",
      " ARIMA(5,0,1)(0,0,0)[0] intercept   : AIC=5753.707, Time=0.39 sec\n",
      " ARIMA(4,0,0)(0,0,0)[0]             : AIC=5758.354, Time=0.12 sec\n",
      "\n",
      "Best model:  ARIMA(4,0,0)(0,0,0)[0] intercept\n",
      "Total fit time: 4.593 seconds\n"
     ]
    },
    {
     "data": {
      "text/html": [
       "<table class=\"simpletable\">\n",
       "<caption>SARIMAX Results</caption>\n",
       "<tr>\n",
       "  <th>Dep. Variable:</th>           <td>y</td>        <th>  No. Observations:  </th>    <td>151</td>   \n",
       "</tr>\n",
       "<tr>\n",
       "  <th>Model:</th>           <td>SARIMAX(4, 0, 0)</td> <th>  Log Likelihood     </th> <td>-2868.831</td>\n",
       "</tr>\n",
       "<tr>\n",
       "  <th>Date:</th>            <td>Sat, 16 Dec 2023</td> <th>  AIC                </th> <td>5749.662</td> \n",
       "</tr>\n",
       "<tr>\n",
       "  <th>Time:</th>                <td>22:15:46</td>     <th>  BIC                </th> <td>5767.766</td> \n",
       "</tr>\n",
       "<tr>\n",
       "  <th>Sample:</th>                  <td>0</td>        <th>  HQIC               </th> <td>5757.017</td> \n",
       "</tr>\n",
       "<tr>\n",
       "  <th></th>                      <td> - 151</td>      <th>                     </th>     <td> </td>    \n",
       "</tr>\n",
       "<tr>\n",
       "  <th>Covariance Type:</th>        <td>opg</td>       <th>                     </th>     <td> </td>    \n",
       "</tr>\n",
       "</table>\n",
       "<table class=\"simpletable\">\n",
       "<tr>\n",
       "      <td></td>         <th>coef</th>     <th>std err</th>      <th>z</th>      <th>P>|z|</th>  <th>[0.025</th>    <th>0.975]</th>  \n",
       "</tr>\n",
       "<tr>\n",
       "  <th>intercept</th> <td>  1.59e+07</td> <td> 7.94e-10</td> <td>    2e+16</td> <td> 0.000</td> <td> 1.59e+07</td> <td> 1.59e+07</td>\n",
       "</tr>\n",
       "<tr>\n",
       "  <th>ar.L1</th>     <td>    0.1435</td> <td>    0.045</td> <td>    3.157</td> <td> 0.002</td> <td>    0.054</td> <td>    0.233</td>\n",
       "</tr>\n",
       "<tr>\n",
       "  <th>ar.L2</th>     <td>    0.0959</td> <td>    0.091</td> <td>    1.052</td> <td> 0.293</td> <td>   -0.083</td> <td>    0.274</td>\n",
       "</tr>\n",
       "<tr>\n",
       "  <th>ar.L3</th>     <td>    0.2856</td> <td>    0.054</td> <td>    5.269</td> <td> 0.000</td> <td>    0.179</td> <td>    0.392</td>\n",
       "</tr>\n",
       "<tr>\n",
       "  <th>ar.L4</th>     <td>   -0.1382</td> <td>    0.100</td> <td>   -1.379</td> <td> 0.168</td> <td>   -0.335</td> <td>    0.058</td>\n",
       "</tr>\n",
       "<tr>\n",
       "  <th>sigma2</th>    <td>   1.9e+15</td> <td> 5.71e-17</td> <td> 3.33e+31</td> <td> 0.000</td> <td>  1.9e+15</td> <td>  1.9e+15</td>\n",
       "</tr>\n",
       "</table>\n",
       "<table class=\"simpletable\">\n",
       "<tr>\n",
       "  <th>Ljung-Box (L1) (Q):</th>     <td>0.00</td> <th>  Jarque-Bera (JB):  </th> <td>7755.03</td>\n",
       "</tr>\n",
       "<tr>\n",
       "  <th>Prob(Q):</th>                <td>0.97</td> <th>  Prob(JB):          </th>  <td>0.00</td>  \n",
       "</tr>\n",
       "<tr>\n",
       "  <th>Heteroskedasticity (H):</th> <td>5.02</td> <th>  Skew:              </th>  <td>5.12</td>  \n",
       "</tr>\n",
       "<tr>\n",
       "  <th>Prob(H) (two-sided):</th>    <td>0.00</td> <th>  Kurtosis:          </th>  <td>36.58</td> \n",
       "</tr>\n",
       "</table><br/><br/>Warnings:<br/>[1] Covariance matrix calculated using the outer product of gradients (complex-step).<br/>[2] Covariance matrix is singular or near-singular, with condition number 1.14e+46. Standard errors may be unstable."
      ],
      "text/plain": [
       "<class 'statsmodels.iolib.summary.Summary'>\n",
       "\"\"\"\n",
       "                               SARIMAX Results                                \n",
       "==============================================================================\n",
       "Dep. Variable:                      y   No. Observations:                  151\n",
       "Model:               SARIMAX(4, 0, 0)   Log Likelihood               -2868.831\n",
       "Date:                Sat, 16 Dec 2023   AIC                           5749.662\n",
       "Time:                        22:15:46   BIC                           5767.766\n",
       "Sample:                             0   HQIC                          5757.017\n",
       "                                - 151                                         \n",
       "Covariance Type:                  opg                                         \n",
       "==============================================================================\n",
       "                 coef    std err          z      P>|z|      [0.025      0.975]\n",
       "------------------------------------------------------------------------------\n",
       "intercept    1.59e+07   7.94e-10      2e+16      0.000    1.59e+07    1.59e+07\n",
       "ar.L1          0.1435      0.045      3.157      0.002       0.054       0.233\n",
       "ar.L2          0.0959      0.091      1.052      0.293      -0.083       0.274\n",
       "ar.L3          0.2856      0.054      5.269      0.000       0.179       0.392\n",
       "ar.L4         -0.1382      0.100     -1.379      0.168      -0.335       0.058\n",
       "sigma2        1.9e+15   5.71e-17   3.33e+31      0.000     1.9e+15     1.9e+15\n",
       "===================================================================================\n",
       "Ljung-Box (L1) (Q):                   0.00   Jarque-Bera (JB):              7755.03\n",
       "Prob(Q):                              0.97   Prob(JB):                         0.00\n",
       "Heteroskedasticity (H):               5.02   Skew:                             5.12\n",
       "Prob(H) (two-sided):                  0.00   Kurtosis:                        36.58\n",
       "===================================================================================\n",
       "\n",
       "Warnings:\n",
       "[1] Covariance matrix calculated using the outer product of gradients (complex-step).\n",
       "[2] Covariance matrix is singular or near-singular, with condition number 1.14e+46. Standard errors may be unstable.\n",
       "\"\"\""
      ]
     },
     "execution_count": 17,
     "metadata": {},
     "output_type": "execute_result"
    }
   ],
   "source": [
    "model_terbaik = auto_arima(train['nominal'], trace = True, \n",
    "                          suppres_warnings = True)\n",
    "model_terbaik.summary()"
   ]
  },
  {
   "cell_type": "code",
   "execution_count": 18,
   "id": "5819b24b",
   "metadata": {},
   "outputs": [],
   "source": [
    "import statsmodels.api as sm"
   ]
  },
  {
   "cell_type": "code",
   "execution_count": 19,
   "id": "d021f71f",
   "metadata": {},
   "outputs": [
    {
     "name": "stdout",
     "output_type": "stream",
     "text": [
      "                               SARIMAX Results                                \n",
      "==============================================================================\n",
      "Dep. Variable:                nominal   No. Observations:                   34\n",
      "Model:                 ARIMA(4, 0, 0)   Log Likelihood                -587.035\n",
      "Date:                Sat, 16 Dec 2023   AIC                           1186.070\n",
      "Time:                        22:15:46   BIC                           1195.228\n",
      "Sample:                             0   HQIC                          1189.193\n",
      "                                 - 34                                         \n",
      "Covariance Type:                  opg                                         \n",
      "==============================================================================\n",
      "                 coef    std err          z      P>|z|      [0.025      0.975]\n",
      "------------------------------------------------------------------------------\n",
      "const       8.301e+06   3.25e+06      2.554      0.011    1.93e+06    1.47e+07\n",
      "ar.L1          0.3265      0.174      1.873      0.061      -0.015       0.668\n",
      "ar.L2         -0.1097      0.569     -0.193      0.847      -1.225       1.005\n",
      "ar.L3         -0.0523      0.413     -0.127      0.899      -0.862       0.757\n",
      "ar.L4          0.1372      0.205      0.669      0.503      -0.265       0.539\n",
      "sigma2      6.088e+13      0.486   1.25e+14      0.000    6.09e+13    6.09e+13\n",
      "===================================================================================\n",
      "Ljung-Box (L1) (Q):                   0.04   Jarque-Bera (JB):                20.16\n",
      "Prob(Q):                              0.85   Prob(JB):                         0.00\n",
      "Heteroskedasticity (H):               1.99   Skew:                             1.51\n",
      "Prob(H) (two-sided):                  0.27   Kurtosis:                         5.27\n",
      "===================================================================================\n",
      "\n",
      "Warnings:\n",
      "[1] Covariance matrix calculated using the outer product of gradients (complex-step).\n",
      "[2] Covariance matrix is singular or near-singular, with condition number 1.9e+29. Standard errors may be unstable.\n"
     ]
    }
   ],
   "source": [
    "model = sm.tsa.ARIMA(test['nominal'], order=(4, 0, 0))\n",
    "result = model.fit()\n",
    "print(result.summary())"
   ]
  },
  {
   "cell_type": "code",
   "execution_count": 20,
   "id": "f86cc324",
   "metadata": {},
   "outputs": [],
   "source": [
    "forecast = result.get_forecast(steps=len(test))\n",
    "forecast_values = forecast.predicted_mean\n",
    "conf_int = forecast.conf_int()"
   ]
  },
  {
   "cell_type": "code",
   "execution_count": 21,
   "id": "3f75c901",
   "metadata": {},
   "outputs": [
    {
     "data": {
      "image/png": "[encoded data removed]",
      "text/plain": [
       "<Figure size 640x480 with 1 Axes>"
      ]
     },
     "metadata": {},
     "output_type": "display_data"
    }
   ],
   "source": [
    "plt.plot(range(len(forecast_values)), forecast_values, c = 'red', label = 'forecast')\n",
    "plt.plot(range(len(test)), test['nominal'], label = 'train')\n",
    "plt.fill_between(range(len(test)), conf_int.iloc[:, 0], conf_int.iloc[:, 1], alpha=0.2, label='interval_kepercayaan')\n",
    "plt.legend()\n",
    "plt.show()"
   ]
  },
  {
   "cell_type": "markdown",
   "id": "734df5ea",
   "metadata": {},
   "source": [
    "Ada beberapa faktor yang menyebabkan kurang baiknya pemodelan arima diataranya:\n",
    "    1. adanya outlier pada data. hal ini bisa dilihat dari adanya beberapa data yang cukup extrim perbedaannya\n",
    "    2. kecilnya ukuran sampel yang digunakan untuk melatih model. sehingga membuat arima kurang baik dalam menangkap pola dan   tren ynag ada pada data\n",
    "solusinaya perlunya melaukan penangan pada outlier dan menambah data train untuk melatih model"
   ]
  }
 ],
 "metadata": {
  "kernelspec": {
   "display_name": "Python 3 (ipykernel)",
   "language": "python",
   "name": "python3"
  },
  "language_info": {
   "codemirror_mode": {
    "name": "ipython",
    "version": 3
   },
   "file_extension": ".py",
   "mimetype": "text/x-python",
   "name": "python",
   "nbconvert_exporter": "python",
   "pygments_lexer": "ipython3",
   "version": "3.10.9"
  }
 },
 "nbformat": 4,
 "nbformat_minor": 5
}
